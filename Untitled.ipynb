{
 "cells": [
  {
   "cell_type": "code",
   "execution_count": 207,
   "id": "256f07e3",
   "metadata": {},
   "outputs": [],
   "source": [
    "story = \"\"\"all happy families resemble one another every unhappy family is unhappy in its own way\n",
    "all was confusion in the house of the oblonskys\n",
    "the wife had discovered that her husbandwas having an intrigue with a french governess who had been in\n",
    "their employand she declared that she could not live in the same house with him\n",
    "this condition of things had lasted now three days and was causing deep discomfort not only to the husband\n",
    "and wifebut also to all the members of the family and the domestics\n",
    "all the members of the family and the domestics felt that there was no sense in their living together and\n",
    "that in any hotel people meeting casually had more mutual interests than they the members of the family\n",
    "and the domestics of the house of oblonsky\n",
    "the wife did not come out of her own rooms\n",
    "the husband had not been at home for two days\n",
    "the children were running over the whole house as if they were crazy\n",
    "the english maid was angry with the housekeeper and wrote to a friend begging her to find her a new place' \n",
    "the head cook had departed theevening before just at dinner time\n",
    "the kitchen maid and the coachman demanded their wages'\n",
    "\"\"\" +  'z' * 100\n",
    "\n",
    "story2=\"\"\"\n",
    "Alice was beginning to get very tired of sitting by her sister on the bank, and of having nothing to do: once or twice she had peeped into the book her sister was reading, but it had no pictures or conversations in it, “and what is the use of a book,” thought Alice “without pictures or conversations?”\n",
    "\n",
    "So she was considering in her own mind (as well as she could, for the hot day made her feel very sleepy and stupid), whether the pleasure of making a daisy-chain would be worth the trouble of getting up and picking the daisies, when suddenly a White Rabbit with pink eyes ran close by her.\n",
    "\n",
    "There was nothing so very remarkable in that; nor did Alice think it so very much out of the way to hear the Rabbit say to itself, “Oh dear! Oh dear! I shall be late!” (when she thought it over afterwards, it occurred to her that she ought to have wondered at this, but at the time it all seemed quite natural); but when the Rabbit actually took a watch out of its waistcoat-pocket, and looked at it, and then hurried on, Alice started to her feet, for it flashed across her mind that she had never before seen a rabbit with either a waistcoat-pocket, or a watch to take out of it, and burning with curiosity, she ran across the field after it, and fortunately was just in time to see it pop down a large rabbit-hole under the hedge.\n",
    "\n",
    "In another moment down went Alice after it, never once considering how in the world she was to get out again.\n",
    "\n",
    "The rabbit-hole went straight on like a tunnel for some way, and then dipped suddenly down, so suddenly that Alice had not a moment to think about stopping herself before she found herself falling down a very deep well.\n",
    "\n",
    "Either the well was very deep, or she fell very slowly, for she had plenty of time as she went down to look about her and to wonder what was going to happen next. First, she tried to look down and make out what she was coming to, but it was too dark to see anything; then she looked at the sides of the well, and noticed that they were filled with cupboards and book-shelves; here and there she saw maps and pictures hung upon pegs. She took down a jar from one of the shelves as she passed; it was labelled “ORANGE MARMALADE”, but to her great disappointment it was empty: she did not like to drop the jar for fear of killing somebody underneath, so managed to put it into one of the cupboards as she fell past it.\n",
    "\n",
    "“Well!” thought Alice to herself, “after such a fall as this, I shall think nothing of tumbling down stairs! How brave they’ll all think me at home! Why, I wouldn’t say anything about it, even if I fell off the top of the house!” (Which was very likely true.)\n",
    "\n",
    "Down, down, down. Would the fall never come to an end? “I wonder how many miles I’ve fallen by this time?” she said aloud. “I must be getting somewhere near the centre of the earth. Let me see: that would be four thousand miles down, I think—” (for, you see, Alice had learnt several things of this sort in her lessons in the schoolroom, and though this was not a very good opportunity for showing off her knowledge, as there was no one to listen to her, still it was good practice to say it over) “—yes, that’s about the right distance—but then I wonder what Latitude or Longitude I’ve got to?” (Alice had no idea what Latitude was, or Longitude either, but thought they were nice grand words to say.)\n",
    "\n",
    "Presently she began again. “I wonder if I shall fall right through the earth! How funny it’ll seem to come out among the people that walk with their heads downward! The Antipathies, I think—” (she was rather glad there was no one listening, this time, as it didn’t sound at all the right word) “—but I shall have to ask them what the name of the country is, you know. Please, Ma’am, is this New Zealand or Australia?” (and she tried to curtsey as she spoke—fancy curtseying as you’re falling through the air! Do you think you could manage it?) “And what an ignorant little girl she’ll think me for asking! No, it’ll never do to ask: perhaps I shall see it written up somewhere.”\n",
    "\n",
    "Down, down, down. There was nothing else to do, so Alice soon began talking again. “Dinah’ll miss me very much to-night, I should think!” (Dinah was the cat.) “I hope they’ll remember her saucer of milk at tea-time. Dinah my dear! I wish you were down here with me! There are no mice in the air, I’m afraid, but you might catch a bat, and that’s very like a mouse, you know. But do cats eat bats, I wonder?” And here Alice began to get rather sleepy, and went on saying to herself, in a dreamy sort of way, “Do cats eat bats? Do cats eat bats?” and sometimes, “Do bats eat cats?” for, you see, as she couldn’t answer either question, it didn’t much matter which way she put it. She felt that she was dozing off, and had just begun to dream that she was walking hand in hand with Dinah, and saying to her very earnestly, “Now, Dinah, tell me the truth: did you ever eat a bat?” when suddenly, thump! thump! down she came upon a heap of sticks and dry leaves, and the fall was over.\n",
    "\n",
    "Alice was not a bit hurt, and she jumped up on to her feet in a moment: she looked up, but it was all dark overhead; before her was another long passage, and the White Rabbit was still in sight, hurrying down it. There was not a moment to be lost: away went Alice like the wind, and was just in time to hear it say, as it turned a corner, “Oh my ears and whiskers, how late it’s getting!” She was close behind it when she turned the corner, but the Rabbit was no longer to be seen: she found herself in a long, low hall, which was lit up by a row of lamps hanging from the roof.\n",
    "\n",
    "There were doors all round the hall, but they were all locked; and when Alice had been all the way down one side and up the other, trying every door, she walked sadly down the middle, wondering how she was ever to get out again.\n",
    "\n",
    "Suddenly she came upon a little three-legged table, all made of solid glass; there was nothing on it except a tiny golden key, and Alice’s first thought was that it might belong to one of the doors of the hall; but, alas! either the locks were too large, or the key was too small, but at any rate it would not open any of them. However, on the second time round, she came upon a low curtain she had not noticed before, and behind it was a little door about fifteen inches high: she tried the little golden key in the lock, and to her great delight it fitted!\n",
    "\n",
    "Alice opened the door and found that it led into a small passage, not much larger than a rat-hole: she knelt down and looked along the passage into the loveliest garden you ever saw. How she longed to get out of that dark hall, and wander about among those beds of bright flowers and those cool fountains, but she could not even get her head through the doorway; “and even if my head would go through,” thought poor Alice, “it would be of very little use without my shoulders. Oh, how I wish I could shut up like a telescope! I think I could, if I only knew how to begin.” For, you see, so many out-of-the-way things had happened lately, that Alice had begun to think that very few things indeed were really impossible.\n",
    "\n",
    "\"\"\".lower() + 'z' * 100\n",
    "from functools import reduce\n",
    "\n",
    "def ceaser_char(char, key):\n",
    "    if not char.isalpha():\n",
    "        return char\n",
    "    old = ord(char)\n",
    "    old = old - ord('a')\n",
    "    new = old + key\n",
    "    new = new % 26\n",
    "    new = chr(new + ord('a'))\n",
    "    return new\n",
    "\n",
    "\n",
    "def ceaser(old, key):\n",
    "    return reduce(lambda o, n: o + ceaser_char(n, key), old)\n",
    "\n",
    "ceaser_story = ceaser(story, 9)\n",
    "\n",
    "analize = {char: ceaser_story.count(char) for char in ceaser_story if char.isalpha()}\n"
   ]
  },
  {
   "cell_type": "code",
   "execution_count": 208,
   "id": "6dd0bdc0",
   "metadata": {},
   "outputs": [],
   "source": [
    "cap_table = {'E': 12.02,\n",
    " 'T': 9.1,\n",
    " 'A': 8.12,\n",
    " 'O': 7.68,\n",
    " 'I': 7.31,\n",
    " 'N': 6.95,\n",
    " 'S': 6.28,\n",
    " 'R': 6.02,\n",
    " 'H': 5.92,\n",
    " 'D': 4.32,\n",
    " 'L': 3.98,\n",
    " 'U': 2.88,\n",
    " 'C': 2.71,\n",
    " 'M': 2.61,\n",
    " 'F': 2.3,\n",
    " 'Y': 2.11,\n",
    " 'W': 2.09,\n",
    " 'G': 2.03,\n",
    " 'P': 1.82,\n",
    " 'B': 1.49,\n",
    " 'V': 1.11,\n",
    " 'K': 0.69,\n",
    " 'X': 0.17,\n",
    " 'Q': 0.11,\n",
    " 'J': 0.1,\n",
    " 'Z': 0.07}\n",
    "\n",
    "table = {}\n",
    "for letter in cap_table:\n",
    "    new = letter.lower()\n",
    "    if new not in analize:\n",
    "        analize[new] = 0\n",
    "    table[new] = cap_table[letter]\n"
   ]
  },
  {
   "cell_type": "code",
   "execution_count": 209,
   "id": "7f7a274f",
   "metadata": {},
   "outputs": [],
   "source": [
    "analize_rev = {value: key for key, value in analize.items()}\n",
    "table_rev = {value: key for key, value in table.items()}\n",
    "\n",
    "sorted_analize = sorted(analize.values())\n",
    "sorted_table = sorted(table.values())\n",
    "\n",
    "\n",
    "final_analize = {i: 0 for i in range(1, 27)}"
   ]
  },
  {
   "cell_type": "code",
   "execution_count": 212,
   "id": "363f0457",
   "metadata": {
    "scrolled": true
   },
   "outputs": [
    {
     "name": "stdout",
     "output_type": "stream",
     "text": [
      "1st:  0    with 5 votes\n",
      "2nd:  2 9    with 4 votes\n",
      "3rd:  2 9    with 4 votes\n"
     ]
    }
   ],
   "source": [
    "char_total = sum(sorted_analize)\n",
    "\n",
    "from collections import defaultdict\n",
    "bad_analize = defaultdict(lambda: 0)\n",
    "\n",
    "for occu, expected in zip(sorted_analize, sorted_table):\n",
    "    relative_diff = abs((occu - expected) / expected) # how much should it effect the final result\n",
    "\n",
    "    key = ord(analize_rev[occu]) - ord(table_rev[expected])\n",
    "    key = key % 26\n",
    "    \n",
    "    bad_analize[key] += 1\n",
    "\n",
    "def get_keys(value, dict_):\n",
    "    keys = []\n",
    "    for key, val in dict_.items():\n",
    "        if val == value:\n",
    "            keys.append(key)\n",
    "    return keys\n",
    "\n",
    "votes = bad_analize.values()\n",
    "votes = sorted(votes, reverse=True)\n",
    "\n",
    "print(\"1st: \", *get_keys(votes[0], bad_analize), f'   with {votes[0]} votes')\n",
    "print(\"2nd: \", *get_keys(votes[1], bad_analize), f'   with {votes[1]} votes')\n",
    "print(\"3rd: \", *get_keys(votes[2], bad_analize), f'   with {votes[2]} votes')"
   ]
  },
  {
   "cell_type": "code",
   "execution_count": 145,
   "id": "3c6eece5",
   "metadata": {},
   "outputs": [
    {
     "data": {
      "text/plain": [
       "110.7042"
      ]
     },
     "execution_count": 145,
     "metadata": {},
     "output_type": "execute_result"
    }
   ],
   "source": [
    "char_total * 12.02 / 100"
   ]
  },
  {
   "cell_type": "code",
   "execution_count": null,
   "id": "959488fa",
   "metadata": {},
   "outputs": [],
   "source": []
  }
 ],
 "metadata": {
  "kernelspec": {
   "display_name": "Python 3 (ipykernel)",
   "language": "python",
   "name": "python3"
  },
  "language_info": {
   "codemirror_mode": {
    "name": "ipython",
    "version": 3
   },
   "file_extension": ".py",
   "mimetype": "text/x-python",
   "name": "python",
   "nbconvert_exporter": "python",
   "pygments_lexer": "ipython3",
   "version": "3.7.7"
  }
 },
 "nbformat": 4,
 "nbformat_minor": 5
}
